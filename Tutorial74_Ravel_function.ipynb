{
  "nbformat": 4,
  "nbformat_minor": 0,
  "metadata": {
    "colab": {
      "name": "Tutorial74_Ravel-function.ipynb",
      "provenance": [],
      "authorship_tag": "ABX9TyMJ0FPVJFrtmyafb+bOHg40",
      "include_colab_link": true
    },
    "kernelspec": {
      "name": "python3",
      "display_name": "Python 3"
    }
  },
  "cells": [
    {
      "cell_type": "markdown",
      "metadata": {
        "id": "view-in-github",
        "colab_type": "text"
      },
      "source": [
        "<a href=\"https://colab.research.google.com/github/Shambhavi-Gupta/Tutorial74_Ravel-function/blob/main/Tutorial74_Ravel_function.ipynb\" target=\"_parent\"><img src=\"https://colab.research.google.com/assets/colab-badge.svg\" alt=\"Open In Colab\"/></a>"
      ]
    },
    {
      "cell_type": "code",
      "metadata": {
        "id": "hTfSKC8tsC8S"
      },
      "source": [
        "import numpy as np\r\n",
        "#help(np.ravel)\r\n",
        "# a = np.array([[2,3],[4,5]])\r\n",
        "# print(a)\r\n",
        "# print(np.ravel(a))\r\n",
        "# print(np.ravel(a,order=\"F\"))\r\n",
        "\r\n",
        "b = np.array([[[9,8,7],[6,5,4],[3,2,1]]])\r\n",
        "print(b)\r\n",
        "print(np.ravel(b))\r\n",
        "print(np.ravel(b, order=\"F\"))"
      ],
      "execution_count": null,
      "outputs": []
    }
  ]
}